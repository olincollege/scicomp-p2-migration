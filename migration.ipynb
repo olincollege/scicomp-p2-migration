{
 "cells": [
  {
   "cell_type": "code",
   "execution_count": 1,
   "metadata": {},
   "outputs": [],
   "source": [
    "from src.agents import Volatile"
   ]
  },
  {
   "cell_type": "code",
   "execution_count": 2,
   "metadata": {},
   "outputs": [],
   "source": [
    "N_MOLECULE = 100000\n",
    "volatiles = Volatile()"
   ]
  },
  {
   "cell_type": "code",
   "execution_count": null,
   "metadata": {},
   "outputs": [],
   "source": [
    "\n",
    "for j in range(5000):\n",
    "    volatiles.migrate(2.989e-26)"
   ]
  },
  {
   "cell_type": "code",
   "execution_count": 7,
   "metadata": {},
   "outputs": [
    {
     "name": "stdout",
     "output_type": "stream",
     "text": [
      "3180\n",
      "0\n",
      "0\n",
      "4159.504767242616\n"
     ]
    }
   ],
   "source": [
    "print(sum(volatiles.cold))\n",
    "print(sum(volatiles.jeans))\n",
    "print(sum(volatiles.photo))\n",
    "print(max(volatiles.velocity))"
   ]
  }
 ],
 "metadata": {
  "kernelspec": {
   "display_name": "sci-comp",
   "language": "python",
   "name": "python3"
  },
  "language_info": {
   "codemirror_mode": {
    "name": "ipython",
    "version": 3
   },
   "file_extension": ".py",
   "mimetype": "text/x-python",
   "name": "python",
   "nbconvert_exporter": "python",
   "pygments_lexer": "ipython3",
   "version": "3.9.17"
  }
 },
 "nbformat": 4,
 "nbformat_minor": 2
}

{
 "cells": [
  {
   "cell_type": "code",
   "execution_count": 1,
   "metadata": {},
   "outputs": [],
   "source": [
    "from src.agents import Volatile\n",
    "import multiprocessing as mp"
   ]
  },
  {
   "cell_type": "code",
   "execution_count": 2,
   "metadata": {},
   "outputs": [],
   "source": [
    "def run_simulation(instance, hops):\n",
    "    for j in range(hops):\n",
    "        instance.migrate(2.989e-26)"
   ]
  },
  {
   "cell_type": "code",
   "execution_count": 6,
   "metadata": {},
   "outputs": [
    {
     "name": "stdout",
     "output_type": "stream",
     "text": [
      "[2.34504159 0.69024936 5.71900485 ... 3.16583452 5.68658692 3.06447789]\n",
      "[2.34504159 0.69024936 5.71900485 ... 3.16583452 5.68658692 3.06447789]\n"
     ]
    }
   ],
   "source": [
    "volatile_1 = Volatile()\n",
    "volatile_2 = Volatile()\n",
    "volatile_3 = Volatile()\n",
    "volatile_4 = Volatile()\n",
    "volatile_5 = Volatile()\n",
    "volatile_6 = Volatile()\n",
    "\n",
    "run_simulation(volatile_1, 5000)"
   ]
  }
 ],
 "metadata": {
  "kernelspec": {
   "display_name": "sci-comp",
   "language": "python",
   "name": "python3"
  },
  "language_info": {
   "codemirror_mode": {
    "name": "ipython",
    "version": 3
   },
   "file_extension": ".py",
   "mimetype": "text/x-python",
   "name": "python",
   "nbconvert_exporter": "python",
   "pygments_lexer": "ipython3",
   "version": "3.9.18"
  }
 },
 "nbformat": 4,
 "nbformat_minor": 2
}

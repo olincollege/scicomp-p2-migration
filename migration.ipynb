{
 "cells": [
  {
   "cell_type": "markdown",
   "metadata": {},
   "source": [
    "# Volatile Travel Along The Surface of Mercury\n",
    "\n",
    "Author: **Kevin Lie-Atjam**"
   ]
  },
  {
   "cell_type": "code",
   "execution_count": 1,
   "metadata": {},
   "outputs": [],
   "source": [
    "import src.expectation as statistics\n",
    "import src.model as model"
   ]
  },
  {
   "cell_type": "markdown",
   "metadata": {},
   "source": [
    "## Introduction\n",
    "\n",
    "In Butler's paper \"The migration of volatiles on the surface of Mercury and the moon\" published in 1997, water and carbon dioxide traverse the surface of Mercury and the Moon through a process called volatile migration. Butler runs a simulation where molecules of either water or carbon dioxide are randomly placed along the surface of Mercury and the moon. We are interested with the surface of Mercury. When the molecules are allowed to move due to thermodynamic processes, around 5-15% of the water molecules in the simulation traveled to cold trap depositions located near the poles of the planet. This project verifies the results outlined in the paper as well as view statistically how the volatiles are lost and where it occurs.\n"
   ]
  },
  {
   "cell_type": "markdown",
   "metadata": {},
   "source": [
    "# Abstractions and Modeling Decisions\n",
    "\n",
    "There were a couple of modeling decisions that had to be made to try and replicate the results described in the paper outlined by Butler. Here were a couple of the deicions made.\n",
    "\n",
    "1. Velocity PDF: The Velocity PDF was the largest design decision that deviated from the paper.\n",
    "\n",
    "One of the velocity PDF's was demonstrated as the following\n",
    "\n",
    "$f(v_0) = 4\\pi(\\frac{m}{2\\pi k_b T})^\\frac{3}{2}v_0^2e^{\\frac{-mv_0^2}{2k_b T}}$\n",
    "\n",
    "This is a probability density function which means that the area underneath the entire domain must equal 1.\n",
    "$\\int_{-\\infty}^{\\infty}4\\pi(\\frac{m}{2\\pi k_b T})^\\frac{3}{2}v_0^2e^{\\frac{-mv_0^2}{2k_b T}} \\ dv_0 = 1$\n",
    "\n",
    "Notice how there is a Gaussian term multipied by an quadratic. We can approximate this PDF more simply by modeling it to a Gaussian distribution curve without the quadratic term. We must first find the average  of the velocities generated from the PDF. This is called finding the expectation value of the velocity function and it can be done by multiplying a velocity operator within the integrand.\n",
    "\n",
    "$\\langle v_0 \\rangle = \\int_{-\\infty}^{\\infty}4\\pi(\\frac{m}{2\\pi k_b T})^\\frac{3}{2}v_0^3e^{\\frac{-mv_0^2}{2k_b T}} \\ dv_0$\n",
    "\n",
    "This function is an odd function which means that the area on the left side has a negative but equal value to the area on the right side. As a result, this integral is simply equal to zero.\n",
    "\n",
    "We will then want to find the expectation value of the velocity squared which isn't as trivial to find\n",
    "\n",
    "$\\langle v_0^2 \\rangle = \\int_{-\\infty}^{\\infty}4\\pi(\\frac{m}{2\\pi k_b T})^\\frac{3}{2}v_0^4e^{\\frac{-mv_0^2}{2k_b T}} \\ dv_0$\n",
    "\n",
    "Solving this integral analytically yields\n",
    "\n",
    "$\\langle v_0^2 \\rangle = \\frac{3 k_b T}{m}$\n",
    "\n",
    "We can then used this to find standard deviation which is equal to the following\n",
    "\n",
    "$\\sigma_{v_0} = \\sqrt{\\langle v_0^2 \\rangle - \\langle v_0 \\rangle^2} = \\sqrt{\\frac{3 k_b T}{m} - 0} = \\sqrt{\\frac{3 k_b T}{m}}$\n",
    "\n",
    "Temperature is defined as the average kinetic energy in an given system. That means that there is an average velocity which is equal to ${\\frac{3 k_b T}{m}}$ by using a kinetic energy relationship. That essentially means that we can sample a random normal distribution curve with the mean of the Gaussian as well as the standard deviation of the Gaussian both being equal to ${\\frac{3 k_b T}{m}}$ to get a close approximation. Additionally, this makes sense physically. If we were to say that the temperature of the system were absolute zero, there can be no temperature lower than absolute zero which means that all particles must be at absolute zero. The preceding formulation agreesw with this statement.\n",
    "\n",
    "2. Lattitude Placement: The placement along the lattitude of Mercury was calculated on an $\\cos^{-1}(\\theta)$ distribution to place a bias on putting the molecules nearby to the equator rather than the poles of the planet. If this wasn't done, a proportional amount of molecules would be set into the cold trap immediately.\n",
    "\n",
    "3. Longitude Placement: The paper states that the initial placement along the planet was assumed to be isotropic which implies that it is uniformly distributed. For that reason, the volatiles were randomly placed in reference to the longitude.\n",
    "\n",
    "4. Launch Angle: The launch angle was calculated on an $\\cos^{-1}(\\theta)$ distribution to bias the angle close to 45 degrees which makes it less likely that the particle will launch at an angle close to 0 or 90 degrees.\n",
    "\n",
    "5. Temperature Binning: In the paper, the temeperature of a volatile is defined by 10 degree lattitude bins which means that the temperatures are essentially discretized. Because assuming that the temperature along the planet is continuous does not deviate too much from the binning, the temperature along the planet can be assumed to be continous.\n",
    "\n",
    "6. Loss Removal: The main losses in the simulation are photodestruction, Jeans escape, and cold trap deposition. Because Jeans escape is when the escape velocity is exceeded and that photodestruction depends on how long the volatile spends in the air, the order at which each of the volatiles are removed goes as follows: First the volatile is evaluated on whether or not it has escaped the atmosphere. If it lands then checked to see if the volatile has landed in a cold trap. After it has spent time in the air, there is a chance the volatile has encountered a photon for photodestruction. If none of those have happened, then the volatile is still in the simulation.\n"
   ]
  },
  {
   "cell_type": "code",
   "execution_count": 2,
   "metadata": {},
   "outputs": [],
   "source": [
    "(photo_stats, cold_stats, \n",
    " jean_stats, cold_phi, \n",
    " cold_theta, jeans_phi, \n",
    " jeans_theta, photo_phi,\n",
    " photo_theta) = statistics.simulate(5000, 50)"
   ]
  },
  {
   "cell_type": "code",
   "execution_count": 3,
   "metadata": {},
   "outputs": [],
   "source": [
    "photo_mean, photo_med, photo_std = statistics.calculate_statistics(photo_stats)\n",
    "cold_mean, cold_med, cold_std = statistics.calculate_statistics(cold_stats)\n",
    "jenas_mean, jeans_med, jeans_std = statistics.calculate_statistics(jean_stats)"
   ]
  },
  {
   "cell_type": "code",
   "execution_count": 5,
   "metadata": {},
   "outputs": [
    {
     "data": {
      "image/png": "[encoded data removed]",
      "text/plain": [
       "<Figure size 640x480 with 1 Axes>"
      ]
     },
     "metadata": {},
     "output_type": "display_data"
    }
   ],
   "source": [
    "model.plot_histogram(cold_stats, 20);"
   ]
  }
 ],
 "metadata": {
  "kernelspec": {
   "display_name": "sci-comp",
   "language": "python",
   "name": "python3"
  },
  "language_info": {
   "codemirror_mode": {
    "name": "ipython",
    "version": 3
   },
   "file_extension": ".py",
   "mimetype": "text/x-python",
   "name": "python",
   "nbconvert_exporter": "python",
   "pygments_lexer": "ipython3",
   "version": "3.9.18"
  }
 },
 "nbformat": 4,
 "nbformat_minor": 2
}

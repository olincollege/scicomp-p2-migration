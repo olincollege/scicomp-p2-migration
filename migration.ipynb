{
 "cells": [
  {
   "cell_type": "code",
   "execution_count": 5,
   "metadata": {},
   "outputs": [],
   "source": [
    "from src.agents import Volatile\n",
    "import numpy as np"
   ]
  },
  {
   "cell_type": "code",
   "execution_count": 6,
   "metadata": {},
   "outputs": [],
   "source": [
    "def run_simulation(instance, hops):\n",
    "    for j in range(hops):\n",
    "        instance.migrate(2.989e-26)"
   ]
  },
  {
   "cell_type": "code",
   "execution_count": 3,
   "metadata": {},
   "outputs": [
    {
     "name": "stdout",
     "output_type": "stream",
     "text": [
      "[1.88215954 2.64825313 3.30063014 ... 4.35060732 0.16393169 2.68505931]\n",
      "[1.75610306 2.3019071  2.78627221 ... 1.61554412 2.39762496 1.50816533]\n",
      "[]\n"
     ]
    }
   ],
   "source": [
    "volatile_1 = Volatile()\n",
    "volatile_2 = Volatile()\n",
    "volatile_3 = Volatile()\n",
    "volatile_4 = Volatile()\n",
    "volatile_5 = Volatile()\n",
    "volatile_6 = Volatile()\n",
    "run_simulation(volatile_1, 5000)"
   ]
  }
 ],
 "metadata": {
  "kernelspec": {
   "display_name": "sci-comp",
   "language": "python",
   "name": "python3"
  },
  "language_info": {
   "codemirror_mode": {
    "name": "ipython",
    "version": 3
   },
   "file_extension": ".py",
   "mimetype": "text/x-python",
   "name": "python",
   "nbconvert_exporter": "python",
   "pygments_lexer": "ipython3",
   "version": "3.9.18"
  }
 },
 "nbformat": 4,
 "nbformat_minor": 2
}
